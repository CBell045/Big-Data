{
 "cells": [
  {
   "cell_type": "markdown",
   "metadata": {
    "application/vnd.databricks.v1+cell": {
     "cellMetadata": {},
     "inputWidgets": {},
     "nuid": "2a50d669-67ec-4e4e-924e-0ccd43286f03",
     "showTitle": false,
     "title": ""
    }
   },
   "source": [
    "### Load and Transform\n",
    "This notebook represents the __Load__ and __Transform__ steps of data engineering. \n",
    "\n",
    "We are going to split the songs data into two relational tables so that the data is query ready. "
   ]
  },
  {
   "cell_type": "code",
   "execution_count": null,
   "metadata": {},
   "outputs": [],
   "source": [
    "%sql\n",
    "-- SELECT DISTINCT Columns from raw_song_data\n",
    "SELECT *\n",
    "FROM raw_song_data\n",
    "LIMIT 1;"
   ]
  },
  {
   "cell_type": "code",
   "execution_count": null,
   "metadata": {
    "application/vnd.databricks.v1+cell": {
     "cellMetadata": {
      "byteLimit": 2048000,
      "implicitDf": true,
      "rowLimit": 10000
     },
     "inputWidgets": {},
     "nuid": "587351d2-6558-44e1-92c6-fc0f96d2f186",
     "showTitle": false,
     "title": ""
    },
    "vscode": {
     "languageId": "sql"
    }
   },
   "outputs": [],
   "source": [
    "%sql\n",
    "CREATE OR REPLACE TABLE\n",
    "    artists (\n",
    "        artist_id STRING,\n",
    "        -- TODO: Create table with artist_name, artist_location, artist_lat, artist_long, and processed_time columns with appropriate types\n",
    "        );\n",
    "\n",
    "INSERT INTO artists\n",
    "    SELECT DISTINCT\n",
    "        artist_id,\n",
    "        -- TODO: Insert into the table\n",
    "    FROM raw_song_data\n",
    "    WHERE artist_id IS NOT NULL;"
   ]
  },
  {
   "cell_type": "code",
   "execution_count": null,
   "metadata": {
    "application/vnd.databricks.v1+cell": {
     "cellMetadata": {
      "byteLimit": 2048000,
      "implicitDf": true,
      "rowLimit": 10000
     },
     "inputWidgets": {},
     "nuid": "db54a4dc-970f-4106-b61d-100a71919c6f",
     "showTitle": false,
     "title": ""
    },
    "vscode": {
     "languageId": "sql"
    }
   },
   "outputs": [],
   "source": [
    "%sql \n",
    "-- TODO: Create table with song_id, title, artist_id, year, duration, song_popularity, and loudness columns with appropriate types. \n",
    "\n",
    "-- Additional Data Engineering Steps:\n",
    "-- 1. Change the year column to be NULL if the value is 0\n",
    "-- 2. Change the column name song_hotnes to song_popularity\n",
    "-- 3. Add column `processed_time`: a timestamp column with the time the data was processed\n",
    "\n",
    "-- 4 (Stretch). Add column `length`: a categorical column with the values 'Short', 'Medium', 'Long', and 'Extra Long' based on the duration of the song"
   ]
  },
  {
   "cell_type": "code",
   "execution_count": null,
   "metadata": {
    "application/vnd.databricks.v1+cell": {
     "cellMetadata": {},
     "inputWidgets": {},
     "nuid": "6489c8b7-871a-449b-81a3-321950238554",
     "showTitle": false,
     "title": ""
    }
   },
   "outputs": [],
   "source": []
  }
 ],
 "metadata": {
  "application/vnd.databricks.v1+notebook": {
   "dashboards": [],
   "language": "python",
   "notebookMetadata": {
    "mostRecentlyExecutedCommandWithImplicitDF": {
     "commandId": 225196267333047,
     "dataframes": [
      "_sqldf"
     ]
    },
    "pythonIndentUnit": 4
   },
   "notebookName": "Data Pipelines-Load-Transform",
   "widgets": {}
  },
  "language_info": {
   "name": "python"
  }
 },
 "nbformat": 4,
 "nbformat_minor": 0
}
